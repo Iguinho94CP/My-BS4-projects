{
  "nbformat": 4,
  "nbformat_minor": 0,
  "metadata": {
    "colab": {
      "name": "indeed-jobs.ipynb",
      "provenance": [],
      "authorship_tag": "ABX9TyPj8keYECqJfJPxR55A7p7u",
      "include_colab_link": true
    },
    "kernelspec": {
      "name": "python3",
      "display_name": "Python 3"
    },
    "language_info": {
      "name": "python"
    }
  },
  "cells": [
    {
      "cell_type": "markdown",
      "metadata": {
        "id": "view-in-github",
        "colab_type": "text"
      },
      "source": [
        "<a href=\"https://colab.research.google.com/github/Iguinho94CP/My-BS4-projects/blob/main/indeed_jobs.ipynb\" target=\"_parent\"><img src=\"https://colab.research.google.com/assets/colab-badge.svg\" alt=\"Open In Colab\"/></a>"
      ]
    },
    {
      "cell_type": "markdown",
      "source": [
        "Importing requests"
      ],
      "metadata": {
        "id": "HhCN789cJwhj"
      }
    },
    {
      "cell_type": "code",
      "execution_count": 1,
      "metadata": {
        "id": "Jb8rjiNRJlAw"
      },
      "outputs": [],
      "source": [
        "import requests"
      ]
    },
    {
      "cell_type": "markdown",
      "source": [
        "Headers"
      ],
      "metadata": {
        "id": "bKOJpxztJ1sK"
      }
    },
    {
      "cell_type": "code",
      "source": [
        "headers = {\n",
        "    'User-Agent': 'Mozilla/5.0 (X11; Linux x86_64; rv:102.0) Gecko/20100101 Firefox/102.0',\n",
        "    'Accept': '*/*',\n",
        "    'Accept-Language': 'en-US,en;q=0.5',\n",
        "    # 'Accept-Encoding': 'gzip, deflate, br',\n",
        "    'Referer': 'https://br.indeed.com/',\n",
        "    # Already added when you pass json=\n",
        "    # 'content-type': 'application/json',\n",
        "    'indeed-api-key': '9e8a2fd82bf5e73386b6c07f12a8a80d422a3b1b9730981cff5f312751ae0554',\n",
        "    'Origin': 'https://br.indeed.com',\n",
        "    'Connection': 'keep-alive',\n",
        "    'Sec-Fetch-Dest': 'empty',\n",
        "    'Sec-Fetch-Mode': 'cors',\n",
        "    'Sec-Fetch-Site': 'same-site',\n",
        "    'Pragma': 'no-cache',\n",
        "    'Cache-Control': 'no-cache',\n",
        "}\n"
      ],
      "metadata": {
        "id": "6zk2ci0OJ5iJ"
      },
      "execution_count": 2,
      "outputs": []
    },
    {
      "cell_type": "markdown",
      "source": [
        "Parameters"
      ],
      "metadata": {
        "id": "c8MkHTXbKDvf"
      }
    },
    {
      "cell_type": "code",
      "source": [
        "params = {\n",
        "    'co': 'BR',\n",
        "    'locale': 'pt-BR',\n",
        "}\n"
      ],
      "metadata": {
        "id": "DOBr-x5QJ_05"
      },
      "execution_count": 3,
      "outputs": []
    },
    {
      "cell_type": "markdown",
      "source": [
        "JSON DATA Dictionary "
      ],
      "metadata": {
        "id": "7_RnLwgPKNjA"
      }
    },
    {
      "cell_type": "code",
      "source": [
        "json_data = {\n",
        "    'query': 'query SalaryInfo($country: String!, $language: String!, $locationForSalaryQuery: String!, $jobTitle: String, $employerKeys: [ID!]!, $jobKey: ID!, $includeIndeedSalaries: Boolean!) {\\n  employers(country: $country, language: $language, keys: $employerKeys) {\\n    key\\n    name\\n    relativeCompanyPageUrl\\n    compJobCitySalaries: salaries(\\n      filter: {jobTitle: $jobTitle, location: $locationForSalaryQuery, useLatestTimeRange: true, minCountForTimeRange: 5}\\n    ) @include(if: $includeIndeedSalaries) {\\n      ...SalaryInfoFields\\n      __typename\\n    }\\n    compJobSalaries: salaries(\\n      filter: {jobTitle: $jobTitle, location: $country, useLatestTimeRange: true, minCountForTimeRange: 5}\\n    ) @include(if: $includeIndeedSalaries) {\\n      ...SalaryInfoFields\\n      __typename\\n    }\\n    __typename\\n  }\\n  jobCitySalaries: salaries(\\n    filter: {jobTitle: $jobTitle, location: $locationForSalaryQuery, useLatestTimeRange: true, minCountForTimeRange: 5}\\n  ) @include(if: $includeIndeedSalaries) {\\n    ...SalaryInfoFields\\n    __typename\\n  }\\n  jobData(jobKeys: [$jobKey]) {\\n    ...JobDataFields\\n    __typename\\n  }\\n}\\n\\nfragment SalaryInfoFields on SalaryInfo {\\n  salary {\\n    totalCount\\n    main {\\n      type\\n      mean\\n      count\\n      __typename\\n    }\\n    __typename\\n  }\\n}\\n\\nfragment JobDataFields on JobDataPayload {\\n  results {\\n    job {\\n      compensation {\\n        formattedText\\n        salarySource\\n        __typename\\n      }\\n      benefits: attributes(customClass: \"SXMYH\") {\\n        key\\n        label\\n        __typename\\n      }\\n      __typename\\n    }\\n    __typename\\n  }\\n}\\n',\n",
        "    'operationName': 'SalaryInfo',\n",
        "    'variables': {\n",
        "        'country': 'BR',\n",
        "        'language': 'pt',\n",
        "        'locationForSalaryQuery': 'BR/SP/São Caetano do Sul',\n",
        "        'jobTitle': 'Programador Júnior',\n",
        "        'includeIndeedSalaries': False,\n",
        "        'employerKeys': [\n",
        "            '87a3c6c0a98f635f',\n",
        "        ],\n",
        "        'jobKey': 'd5ff627e1dd68cdd',\n",
        "    },\n",
        "}"
      ],
      "metadata": {
        "id": "fpVziQzkKT6Q"
      },
      "execution_count": 4,
      "outputs": []
    },
    {
      "cell_type": "markdown",
      "source": [
        "Extracting the jobs data using the indeed api"
      ],
      "metadata": {
        "id": "jwysTY8uKefc"
      }
    },
    {
      "cell_type": "code",
      "source": [
        "response = requests.post('https://apis.indeed.com/graphql', params=params, headers=headers, json=json_data)\n",
        "\n",
        "\n",
        "result = response.json()\n",
        "jobInfo = {\n",
        "    'company_name': result['data']['employers'][0]['name'],\n",
        "    'relativeCompanyPageUrl':  result['data']['employers'][0]['relativeCompanyPageUrl'],\n",
        "    'salary': result['data']['jobData']['results'][0]['job']['compensation']['formattedText'],\n",
        "    'vale_refeicao': result['data']['jobData']['results'][0]['job']['benefits'][0]['label'],\n",
        "    'vale_transporte': result['data']['jobData']['results'][0]['job']['benefits'][1]['label'],\n",
        "    'assistencia_medica': result['data']['jobData']['results'][0]['job']['benefits'][2]['label'],\n",
        "    'assistencia_odontologica': result['data']['jobData']['results'][0]['job']['benefits'][3]['label'],\n",
        "}\n",
        "\n",
        "print(jobInfo)\n"
      ],
      "metadata": {
        "colab": {
          "base_uri": "https://localhost:8080/"
        },
        "id": "Ce-By2JMKZpH",
        "outputId": "16d171b2-0206-41fa-e45b-3579a425180b"
      },
      "execution_count": 5,
      "outputs": [
        {
          "output_type": "stream",
          "name": "stdout",
          "text": [
            "{'company_name': 'Rede Cred Auto Serviços Ltda', 'relativeCompanyPageUrl': '/cmp/Rede-Cred-Auto-Servi%C3%A7os-Ltda', 'salary': 'R$ 2.000 por mês', 'vale_refeicao': 'Vale-refeição', 'vale_transporte': 'Vale-transporte', 'assistencia_medica': 'Assistência médica', 'assistencia_odontologica': 'Assistência odontológica'}\n"
          ]
        }
      ]
    }
  ]
}